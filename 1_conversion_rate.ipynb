{
  "nbformat": 4,
  "nbformat_minor": 0,
  "metadata": {
    "colab": {
      "name": "1-conversion rate.ipynb",
      "provenance": [],
      "collapsed_sections": [],
      "toc_visible": true
    },
    "kernelspec": {
      "display_name": "Python 3",
      "language": "python",
      "name": "python3"
    },
    "language_info": {
      "codemirror_mode": {
        "name": "ipython",
        "version": 3
      },
      "file_extension": ".py",
      "mimetype": "text/x-python",
      "name": "python",
      "nbconvert_exporter": "python",
      "pygments_lexer": "ipython3",
      "version": "3.7.0"
    }
  },
  "cells": [
    {
      "cell_type": "markdown",
      "metadata": {
        "id": "UCYzjZy2D7Yb",
        "colab_type": "text"
      },
      "source": [
        "## Excutive Summary:\n",
        "Conversion rate, as one of the most important metrics for E-Commerce platform, always plays an critica role for business. As increasing conversion rate is the most cost-efficient and direct way to inprove revenue. Here with the data from an online store, I performed exploratory data analysis and predictive modeling to provide actionable solutions for this store to boost conversion rate and increase revenue. <br>\n",
        "Note: This report is for self-learning prupose. The dataset is from book \"A Collection of Data Science Take-Home Challenges\". Out of respect the author of the original work, please go to https://datamasked.com/ for the original data. "
      ]
    },
    {
      "cell_type": "markdown",
      "metadata": {
        "colab_type": "text",
        "id": "zalFgONeVaOP"
      },
      "source": [
        "## Data Description:\n",
        "\n",
        "**country** : user country based on the IP address  <br>\n",
        "**age** : user age. Self-reported at sign-in step <br>\n",
        "**new_user** :\n",
        "*   1: the user created the account during this session\n",
        "*   2: had already an account and simply came back to the site\n",
        "\n",
        "**source** : marketing channel source Ads: came to the site by clicking on an advertisement, seo or direct\n",
        "*   Ads: came to the site through ads\n",
        "*   Seo: came to the site by clicking on search results  <br>\n",
        "*   Direct: came to the site by directly typing the URL on the browser\n",
        "\n",
        "**total_pages_visited**: number of total pages visited during the session. This is a proxy for time spent on site and engagement during the session <br>\n",
        "**converted**: this is our label  <br>\n",
        "\n",
        "\n",
        "*   1 means they converted within the session\n",
        "*   0 means they left without buying anything\n",
        "\n",
        "\n",
        "## Goal\n",
        "To increase conversion rate (# conversions / total sessions)\n"
      ]
    },
    {
      "cell_type": "markdown",
      "metadata": {
        "colab_type": "text",
        "id": "iRXCrHjLVaYh"
      },
      "source": [
        "\n",
        "# Methodology:\n",
        "1. Input Packages & Data\n",
        "2. Data Cleaning\n",
        "3. Exploratory Data Analysis\n",
        "5. Check Class Imbalance\n",
        "5. Modeling\n",
        "6. Result\n",
        "7. Summary\n",
        "---\n",
        "\n"
      ]
    },
    {
      "cell_type": "markdown",
      "metadata": {
        "colab_type": "text",
        "id": "UIQ1W_lBWlg6"
      },
      "source": [
        "# 1. Input Packages & Data"
      ]
    },
    {
      "cell_type": "code",
      "metadata": {
        "colab_type": "code",
        "id": "8AUg7j55XAmM",
        "outputId": "9f9d473a-4973-4363-ed23-df368ca113b3",
        "colab": {
          "base_uri": "https://localhost:8080/",
          "height": 73
        }
      },
      "source": [
        "# input packages\n",
        "import pandas as pd\n",
        "import numpy as np\n",
        "import csv\n",
        "import time\n",
        "import matplotlib.pyplot as plt\n",
        "import seaborn as sns\n",
        "import os\n",
        "from sklearn.utils import resample\n",
        "from sklearn.model_selection import train_test_split,GridSearchCV\n",
        "from sklearn.ensemble import RandomForestClassifier \n",
        "from sklearn.preprocessing import LabelEncoder\n",
        "from sklearn.preprocessing import OneHotEncoder\n",
        "from sklearn.metrics import classification_report,confusion_matrix,precision_score, recall_score\n",
        "from sklearn.metrics import accuracy_score, roc_auc_score, roc_curve\n",
        "from sklearn.ensemble.partial_dependence import partial_dependence, plot_partial_dependence\n",
        "from sklearn.inspection import plot_partial_dependence"
      ],
      "execution_count": 0,
      "outputs": [
        {
          "output_type": "stream",
          "text": [
            "/usr/local/lib/python3.6/dist-packages/statsmodels/tools/_testing.py:19: FutureWarning: pandas.util.testing is deprecated. Use the functions in the public API at pandas.testing instead.\n",
            "  import pandas.util.testing as tm\n"
          ],
          "name": "stderr"
        }
      ]
    },
    {
      "cell_type": "code",
      "metadata": {
        "id": "4ocaGyJfjWy6",
        "colab_type": "code",
        "outputId": "131c5489-13ec-4d06-c905-aa8974123304",
        "colab": {
          "base_uri": "https://localhost:8080/",
          "height": 126
        }
      },
      "source": [
        "from google.colab import drive\n",
        "drive.mount('/content/drive')"
      ],
      "execution_count": 0,
      "outputs": [
        {
          "output_type": "stream",
          "text": [
            "Go to this URL in a browser: https://accounts.google.com/o/oauth2/auth?client_id=947318989803-6bn6qk8qdgf4n4g3pfee6491hc0brc4i.apps.googleusercontent.com&redirect_uri=urn%3aietf%3awg%3aoauth%3a2.0%3aoob&response_type=code&scope=email%20https%3a%2f%2fwww.googleapis.com%2fauth%2fdocs.test%20https%3a%2f%2fwww.googleapis.com%2fauth%2fdrive%20https%3a%2f%2fwww.googleapis.com%2fauth%2fdrive.photos.readonly%20https%3a%2f%2fwww.googleapis.com%2fauth%2fpeopleapi.readonly\n",
            "\n",
            "Enter your authorization code:\n",
            "··········\n",
            "Mounted at /content/drive\n"
          ],
          "name": "stdout"
        }
      ]
    },
    {
      "cell_type": "code",
      "metadata": {
        "id": "BUZMPUIpPTFZ",
        "colab_type": "code",
        "colab": {}
      },
      "source": [
        "# show multiple lines\n",
        "from IPython.core.interactiveshell import InteractiveShell \n",
        "InteractiveShell.ast_node_interactivity='all'"
      ],
      "execution_count": 0,
      "outputs": []
    },
    {
      "cell_type": "code",
      "metadata": {
        "colab_type": "code",
        "id": "N31fl01nVZo_",
        "outputId": "c28fba72-419e-47bc-fa3f-95616de5b16c",
        "colab": {
          "base_uri": "https://localhost:8080/",
          "height": 204
        }
      },
      "source": [
        "# import csv as df\n",
        "df = pd.read_csv('/content/drive/My Drive/1 - Data Science Project/Conversion Rate/conversion_project.csv')\n",
        "df.head()"
      ],
      "execution_count": 0,
      "outputs": [
        {
          "output_type": "execute_result",
          "data": {
            "text/html": [
              "<div>\n",
              "<style scoped>\n",
              "    .dataframe tbody tr th:only-of-type {\n",
              "        vertical-align: middle;\n",
              "    }\n",
              "\n",
              "    .dataframe tbody tr th {\n",
              "        vertical-align: top;\n",
              "    }\n",
              "\n",
              "    .dataframe thead th {\n",
              "        text-align: right;\n",
              "    }\n",
              "</style>\n",
              "<table border=\"1\" class=\"dataframe\">\n",
              "  <thead>\n",
              "    <tr style=\"text-align: right;\">\n",
              "      <th></th>\n",
              "      <th>country</th>\n",
              "      <th>age</th>\n",
              "      <th>new_user</th>\n",
              "      <th>source</th>\n",
              "      <th>total_pages_visited</th>\n",
              "      <th>converted</th>\n",
              "    </tr>\n",
              "  </thead>\n",
              "  <tbody>\n",
              "    <tr>\n",
              "      <th>0</th>\n",
              "      <td>UK</td>\n",
              "      <td>25</td>\n",
              "      <td>1</td>\n",
              "      <td>Ads</td>\n",
              "      <td>1</td>\n",
              "      <td>0</td>\n",
              "    </tr>\n",
              "    <tr>\n",
              "      <th>1</th>\n",
              "      <td>US</td>\n",
              "      <td>23</td>\n",
              "      <td>1</td>\n",
              "      <td>Seo</td>\n",
              "      <td>5</td>\n",
              "      <td>0</td>\n",
              "    </tr>\n",
              "    <tr>\n",
              "      <th>2</th>\n",
              "      <td>US</td>\n",
              "      <td>28</td>\n",
              "      <td>1</td>\n",
              "      <td>Seo</td>\n",
              "      <td>4</td>\n",
              "      <td>0</td>\n",
              "    </tr>\n",
              "    <tr>\n",
              "      <th>3</th>\n",
              "      <td>China</td>\n",
              "      <td>39</td>\n",
              "      <td>1</td>\n",
              "      <td>Seo</td>\n",
              "      <td>5</td>\n",
              "      <td>0</td>\n",
              "    </tr>\n",
              "    <tr>\n",
              "      <th>4</th>\n",
              "      <td>US</td>\n",
              "      <td>30</td>\n",
              "      <td>1</td>\n",
              "      <td>Seo</td>\n",
              "      <td>6</td>\n",
              "      <td>0</td>\n",
              "    </tr>\n",
              "  </tbody>\n",
              "</table>\n",
              "</div>"
            ],
            "text/plain": [
              "  country  age  new_user source  total_pages_visited  converted\n",
              "0      UK   25         1    Ads                    1          0\n",
              "1      US   23         1    Seo                    5          0\n",
              "2      US   28         1    Seo                    4          0\n",
              "3   China   39         1    Seo                    5          0\n",
              "4      US   30         1    Seo                    6          0"
            ]
          },
          "metadata": {
            "tags": []
          },
          "execution_count": 4
        }
      ]
    },
    {
      "cell_type": "code",
      "metadata": {
        "colab_type": "code",
        "id": "UE9ZQ-5Vye1l",
        "outputId": "077d59a4-c774-464f-e38c-13e4ffb0b46b",
        "colab": {
          "base_uri": "https://localhost:8080/",
          "height": 124
        }
      },
      "source": [
        "# show unique values for each col:\n",
        "for column in df.columns:\n",
        "    uniques = sorted(df[column].unique())\n",
        "    print('{0:20s} {1:5d}\\t'.format(column, len(uniques)), uniques[:5])"
      ],
      "execution_count": 0,
      "outputs": [
        {
          "output_type": "stream",
          "text": [
            "country                  4\t ['China', 'Germany', 'UK', 'US']\n",
            "age                     60\t [17, 18, 19, 20, 21]\n",
            "new_user                 2\t [0, 1]\n",
            "source                   3\t ['Ads', 'Direct', 'Seo']\n",
            "total_pages_visited     29\t [1, 2, 3, 4, 5]\n",
            "converted                2\t [0, 1]\n"
          ],
          "name": "stdout"
        }
      ]
    },
    {
      "cell_type": "code",
      "metadata": {
        "colab_type": "code",
        "id": "TOUSK5juYb80",
        "outputId": "a68dfe79-d002-46a9-b228-f5f80b23fa2f",
        "colab": {
          "base_uri": "https://localhost:8080/",
          "height": 529
        }
      },
      "source": [
        "# Inspect the data with describe() function to catch imperfect data for cleaning\n",
        "df.info()\n",
        "df.describe()"
      ],
      "execution_count": 0,
      "outputs": [
        {
          "output_type": "stream",
          "text": [
            "<class 'pandas.core.frame.DataFrame'>\n",
            "RangeIndex: 316200 entries, 0 to 316199\n",
            "Data columns (total 6 columns):\n",
            " #   Column               Non-Null Count   Dtype \n",
            "---  ------               --------------   ----- \n",
            " 0   country              316200 non-null  object\n",
            " 1   age                  316200 non-null  int64 \n",
            " 2   new_user             316200 non-null  int64 \n",
            " 3   source               316200 non-null  object\n",
            " 4   total_pages_visited  316200 non-null  int64 \n",
            " 5   converted            316200 non-null  int64 \n",
            "dtypes: int64(4), object(2)\n",
            "memory usage: 14.5+ MB\n"
          ],
          "name": "stdout"
        },
        {
          "output_type": "execute_result",
          "data": {
            "text/html": [
              "<div>\n",
              "<style scoped>\n",
              "    .dataframe tbody tr th:only-of-type {\n",
              "        vertical-align: middle;\n",
              "    }\n",
              "\n",
              "    .dataframe tbody tr th {\n",
              "        vertical-align: top;\n",
              "    }\n",
              "\n",
              "    .dataframe thead th {\n",
              "        text-align: right;\n",
              "    }\n",
              "</style>\n",
              "<table border=\"1\" class=\"dataframe\">\n",
              "  <thead>\n",
              "    <tr style=\"text-align: right;\">\n",
              "      <th></th>\n",
              "      <th>age</th>\n",
              "      <th>new_user</th>\n",
              "      <th>total_pages_visited</th>\n",
              "      <th>converted</th>\n",
              "    </tr>\n",
              "  </thead>\n",
              "  <tbody>\n",
              "    <tr>\n",
              "      <th>count</th>\n",
              "      <td>316200.000000</td>\n",
              "      <td>316200.000000</td>\n",
              "      <td>316200.000000</td>\n",
              "      <td>316200.000000</td>\n",
              "    </tr>\n",
              "    <tr>\n",
              "      <th>mean</th>\n",
              "      <td>30.569858</td>\n",
              "      <td>0.685465</td>\n",
              "      <td>4.872966</td>\n",
              "      <td>0.032258</td>\n",
              "    </tr>\n",
              "    <tr>\n",
              "      <th>std</th>\n",
              "      <td>8.271802</td>\n",
              "      <td>0.464331</td>\n",
              "      <td>3.341104</td>\n",
              "      <td>0.176685</td>\n",
              "    </tr>\n",
              "    <tr>\n",
              "      <th>min</th>\n",
              "      <td>17.000000</td>\n",
              "      <td>0.000000</td>\n",
              "      <td>1.000000</td>\n",
              "      <td>0.000000</td>\n",
              "    </tr>\n",
              "    <tr>\n",
              "      <th>25%</th>\n",
              "      <td>24.000000</td>\n",
              "      <td>0.000000</td>\n",
              "      <td>2.000000</td>\n",
              "      <td>0.000000</td>\n",
              "    </tr>\n",
              "    <tr>\n",
              "      <th>50%</th>\n",
              "      <td>30.000000</td>\n",
              "      <td>1.000000</td>\n",
              "      <td>4.000000</td>\n",
              "      <td>0.000000</td>\n",
              "    </tr>\n",
              "    <tr>\n",
              "      <th>75%</th>\n",
              "      <td>36.000000</td>\n",
              "      <td>1.000000</td>\n",
              "      <td>7.000000</td>\n",
              "      <td>0.000000</td>\n",
              "    </tr>\n",
              "    <tr>\n",
              "      <th>max</th>\n",
              "      <td>123.000000</td>\n",
              "      <td>1.000000</td>\n",
              "      <td>29.000000</td>\n",
              "      <td>1.000000</td>\n",
              "    </tr>\n",
              "  </tbody>\n",
              "</table>\n",
              "</div>"
            ],
            "text/plain": [
              "                 age       new_user  total_pages_visited      converted\n",
              "count  316200.000000  316200.000000        316200.000000  316200.000000\n",
              "mean       30.569858       0.685465             4.872966       0.032258\n",
              "std         8.271802       0.464331             3.341104       0.176685\n",
              "min        17.000000       0.000000             1.000000       0.000000\n",
              "25%        24.000000       0.000000             2.000000       0.000000\n",
              "50%        30.000000       1.000000             4.000000       0.000000\n",
              "75%        36.000000       1.000000             7.000000       0.000000\n",
              "max       123.000000       1.000000            29.000000       1.000000"
            ]
          },
          "metadata": {
            "tags": []
          },
          "execution_count": 6
        }
      ]
    },
    {
      "cell_type": "markdown",
      "metadata": {
        "colab_type": "text",
        "id": "ry-BYcDPZbg7"
      },
      "source": [
        "## Findings:"
      ]
    },
    {
      "cell_type": "markdown",
      "metadata": {
        "colab_type": "text",
        "id": "xsPHF0t_ZhAE"
      },
      "source": [
        "1. No null value appear in this dataset\n",
        "2. Conversion rate at around 3% is industry standard. It makes sense.\n",
        "\n",
        "3. 50% of users are under 30 yrs old, 75% are under 36. Our user base is young\n",
        "4. Max age 123 yrs doesn't make sense here"
      ]
    },
    {
      "cell_type": "markdown",
      "metadata": {
        "colab_type": "text",
        "id": "BTgAERtwnyA3"
      },
      "source": [
        "# 2. Data Cleaning"
      ]
    },
    {
      "cell_type": "code",
      "metadata": {
        "colab_type": "code",
        "id": "_Nk4LcF9ltDi",
        "outputId": "c7225fc9-d3e2-4870-eaf4-ac572004c131",
        "scrolled": true,
        "colab": {
          "base_uri": "https://localhost:8080/",
          "height": 490
        }
      },
      "source": [
        "# Let's investigate 'age' with box plot & fit a linear regression model\n",
        "# box plot is a great choice for outlier detection \n",
        "# a linear regression model fit plot will help us understand \n",
        "# relationship of explanatory variable and target variable\n",
        "grouped = df[['converted','age']].groupby('age').mean().reset_index()\n",
        "fig, ax = plt.subplots(nrows = 1, ncols = 2, figsize = (18,6))\n",
        "ax[0].boxplot(x = df['age'])\n",
        "ax[0].set_title('Distribution of age',fontsize = 16)\n",
        "\n",
        "sns.regplot(x=grouped['age'], y=grouped['converted'], data = grouped,ax=ax[1])\n",
        "ax[1].set_title('Age Trend', fontsize = 16)\n",
        "plt.tight_layout()\n",
        "plt.show()\n",
        "\n"
      ],
      "execution_count": 0,
      "outputs": [
        {
          "output_type": "execute_result",
          "data": {
            "text/plain": [
              "{'boxes': [<matplotlib.lines.Line2D at 0x7f174287bb38>],\n",
              " 'caps': [<matplotlib.lines.Line2D at 0x7f174288b588>,\n",
              "  <matplotlib.lines.Line2D at 0x7f174288b908>],\n",
              " 'fliers': [<matplotlib.lines.Line2D at 0x7f1742819048>],\n",
              " 'means': [],\n",
              " 'medians': [<matplotlib.lines.Line2D at 0x7f174288bc88>],\n",
              " 'whiskers': [<matplotlib.lines.Line2D at 0x7f174287be48>,\n",
              "  <matplotlib.lines.Line2D at 0x7f174288b208>]}"
            ]
          },
          "metadata": {
            "tags": []
          },
          "execution_count": 7
        },
        {
          "output_type": "execute_result",
          "data": {
            "text/plain": [
              "Text(0.5, 1.0, 'Distribution of age')"
            ]
          },
          "metadata": {
            "tags": []
          },
          "execution_count": 7
        },
        {
          "output_type": "execute_result",
          "data": {
            "text/plain": [
              "<matplotlib.axes._subplots.AxesSubplot at 0x7f17428c3860>"
            ]
          },
          "metadata": {
            "tags": []
          },
          "execution_count": 7
        },
        {
          "output_type": "execute_result",
          "data": {
            "text/plain": [
              "Text(0.5, 1.0, 'Age Trend')"
            ]
          },
          "metadata": {
            "tags": []
          },
          "execution_count": 7
        },
        {
          "output_type": "display_data",
          "data": {
            "image/png": "[encoded data removed]",
            "text/plain": [
              "<Figure size 1296x432 with 2 Axes>"
            ]
          },
          "metadata": {
            "tags": [],
            "needs_background": "light"
          }
        }
      ]
    },
    {
      "cell_type": "markdown",
      "metadata": {
        "colab_type": "text",
        "id": "hdB1xxLTmhKx"
      },
      "source": [
        "## Finding:\n",
        "2 records of users over 100 years old. This also causes a skew in age trend. Possible reasons could be:\n",
        " 1. Indicator of some bug with logging code, engineering team could help with this;\n",
        " 2. Users put wrong data which created outliers\n",
        "\n",
        "### My solution: remove them"
      ]
    },
    {
      "cell_type": "code",
      "metadata": {
        "colab_type": "code",
        "id": "CsSt6yYVn_XG",
        "outputId": "e0325f39-5684-44bc-f069-e07f7f2a84df",
        "colab": {
          "base_uri": "https://localhost:8080/",
          "height": 342
        }
      },
      "source": [
        "# Show outliers\n",
        "# Select outlier based on condition\n",
        "df[df['age']>100]\n",
        "# Remove outliers, check the final table\n",
        "df = df[df['age']<100]\n",
        "df.info()"
      ],
      "execution_count": 0,
      "outputs": [
        {
          "output_type": "execute_result",
          "data": {
            "text/html": [
              "<div>\n",
              "<style scoped>\n",
              "    .dataframe tbody tr th:only-of-type {\n",
              "        vertical-align: middle;\n",
              "    }\n",
              "\n",
              "    .dataframe tbody tr th {\n",
              "        vertical-align: top;\n",
              "    }\n",
              "\n",
              "    .dataframe thead th {\n",
              "        text-align: right;\n",
              "    }\n",
              "</style>\n",
              "<table border=\"1\" class=\"dataframe\">\n",
              "  <thead>\n",
              "    <tr style=\"text-align: right;\">\n",
              "      <th></th>\n",
              "      <th>country</th>\n",
              "      <th>age</th>\n",
              "      <th>new_user</th>\n",
              "      <th>source</th>\n",
              "      <th>total_pages_visited</th>\n",
              "      <th>converted</th>\n",
              "    </tr>\n",
              "  </thead>\n",
              "  <tbody>\n",
              "    <tr>\n",
              "      <th>90928</th>\n",
              "      <td>Germany</td>\n",
              "      <td>123</td>\n",
              "      <td>0</td>\n",
              "      <td>Seo</td>\n",
              "      <td>15</td>\n",
              "      <td>1</td>\n",
              "    </tr>\n",
              "    <tr>\n",
              "      <th>295581</th>\n",
              "      <td>UK</td>\n",
              "      <td>111</td>\n",
              "      <td>0</td>\n",
              "      <td>Ads</td>\n",
              "      <td>10</td>\n",
              "      <td>1</td>\n",
              "    </tr>\n",
              "  </tbody>\n",
              "</table>\n",
              "</div>"
            ],
            "text/plain": [
              "        country  age  new_user source  total_pages_visited  converted\n",
              "90928   Germany  123         0    Seo                   15          1\n",
              "295581       UK  111         0    Ads                   10          1"
            ]
          },
          "metadata": {
            "tags": []
          },
          "execution_count": 6
        },
        {
          "output_type": "stream",
          "text": [
            "<class 'pandas.core.frame.DataFrame'>\n",
            "Int64Index: 316198 entries, 0 to 316199\n",
            "Data columns (total 6 columns):\n",
            " #   Column               Non-Null Count   Dtype \n",
            "---  ------               --------------   ----- \n",
            " 0   country              316198 non-null  object\n",
            " 1   age                  316198 non-null  int64 \n",
            " 2   new_user             316198 non-null  int64 \n",
            " 3   source               316198 non-null  object\n",
            " 4   total_pages_visited  316198 non-null  int64 \n",
            " 5   converted            316198 non-null  int64 \n",
            "dtypes: int64(4), object(2)\n",
            "memory usage: 16.9+ MB\n"
          ],
          "name": "stdout"
        }
      ]
    },
    {
      "cell_type": "markdown",
      "metadata": {
        "colab_type": "text",
        "id": "qVAnQSDgwGAT"
      },
      "source": [
        "# 3. Exploratory Data Analysis"
      ]
    },
    {
      "cell_type": "markdown",
      "metadata": {
        "colab_type": "text",
        "id": "zDMvLaobwdF4"
      },
      "source": [
        "## Conversion rate by country"
      ]
    },
    {
      "cell_type": "code",
      "metadata": {
        "colab_type": "code",
        "id": "8pmLnj48w7zI",
        "outputId": "5c73d3e5-2eb3-416b-8eaf-994c4f8d5662",
        "scrolled": true,
        "colab": {
          "base_uri": "https://localhost:8080/",
          "height": 35
        }
      },
      "source": [
        "# plot No.users by country, No.converted users by country & mean conversion rate per country\n",
        "\n",
        "fig, ax = plt.subplots(nrows = 1, ncols = 3, figsize = (18,4))\n",
        "\n",
        "sns.countplot(x='country',data = df,ax = ax[0]) \n",
        "ax[0].set_title('Number of Users Per Country',fontsize = 16)\n",
        "\n",
        "sns.countplot(x='country',hue='converted',data = df,ax = ax[1]) \n",
        "ax[1].set_title('Number of Conversion Per Country',fontsize = 16)\n",
        "ax[1].set_yscale('log')  # set y axis scale in log\n",
        "\n",
        "sns.barplot(x='country',y='converted',data = df,ax = ax[2])\n",
        "ax[2].set_title('Mean Conversion Rate Per Country',fontsize = 16)\n",
        "\n",
        "plt.show()"
      ],
      "execution_count": 0,
      "outputs": [
        {
          "output_type": "display_data",
          "data": {
            "image/png": "[encoded data removed]",
            "text/plain": [
              "<Figure size 1296x288 with 3 Axes>"
            ]
          },
          "metadata": {
            "tags": [],
            "needs_background": "light"
          }
        }
      ]
    },
    {
      "cell_type": "markdown",
      "metadata": {
        "id": "7dJz9mfNjQFo",
        "colab_type": "text"
      },
      "source": [
        "## Findings:\n",
        "1. Most users are from US, perhaps this is a US website\n",
        "2. Germany has the highest conversion rate even though we have the least users there, opportunity!\n",
        "3. Conversion rate of China is the lowest. Considering large user base of China, we could investigate more about this"
      ]
    },
    {
      "cell_type": "markdown",
      "metadata": {
        "colab_type": "text",
        "id": "SYqp9uA0wdeB"
      },
      "source": [
        "## Conversion rate by age"
      ]
    },
    {
      "cell_type": "code",
      "metadata": {
        "colab_type": "code",
        "id": "5Z69UbdWxTp0",
        "outputId": "c6ce3a71-b46b-4b3f-fee6-0059d5d6ef45",
        "colab": {}
      },
      "source": [
        "# plot age distribution by conversion behavior, conversion rate by age\n",
        "grouped = df[['converted','age']].groupby('age').mean().reset_index()\n",
        "\n",
        "fig, ax = plt.subplots(nrows = 1, ncols = 2, figsize = (18,6)) \n",
        "\n",
        "hist_kws= {'histtype': 'bar', 'edgecolor':'black', 'alpha': 0.2}  # alpha : transparency \n",
        "sns.distplot(df[df['converted']==0]['age'], label = 'converted_0', hist_kws=hist_kws, ax = ax[0])\n",
        "sns.distplot(df[df['converted']==1]['age'], label = 'converted_1', hist_kws=hist_kws, ax = ax[0])\n",
        "xticks = np.arange(15, 80, 5)\n",
        "ax[0].set_xticks(xticks)\n",
        "ax[0].legend()\n",
        "ax[0].set_title('Age Distribution by Conversion Behavior',fontsize=16)\n",
        "\n",
        "sns.lineplot(x=grouped['age'],y=grouped['converted'],data = grouped,ax=ax[1],marker='o')\n",
        "ax[1].set_title('Conversion Rate by Age',fontsize=16)\n",
        "\n",
        "plt.show()"
      ],
      "execution_count": 0,
      "outputs": [
        {
          "output_type": "display_data",
          "data": {
            "image/png": "[encoded data removed]",
            "text/plain": [
              "<Figure size 1296x432 with 2 Axes>"
            ]
          },
          "metadata": {
            "tags": [],
            "needs_background": "light"
          }
        }
      ]
    },
    {
      "cell_type": "markdown",
      "metadata": {
        "id": "_DImy_H5jQFu",
        "colab_type": "text"
      },
      "source": [
        "## Findings:\n",
        "1. Age distrributions are right-skewed, no matter converted or not\n",
        "2. Young users are more inclined to convert"
      ]
    },
    {
      "cell_type": "markdown",
      "metadata": {
        "colab_type": "text",
        "id": "SK8h6yVTwjxX"
      },
      "source": [
        "## Conversion rate by user type"
      ]
    },
    {
      "cell_type": "code",
      "metadata": {
        "colab_type": "code",
        "id": "XCEpAybHx0OQ",
        "outputId": "13edfa76-3c76-45ad-c759-924a1252b998",
        "colab": {}
      },
      "source": [
        "fig, ax = plt.subplots(nrows = 1, ncols = 2, figsize = (18,4))\n",
        "\n",
        "sns.countplot(x='new_user',hue='converted',data = df,ax = ax[0]) \n",
        "ax[0].set_title('Number of Users by User Type',fontsize = 16)\n",
        "ax[0].set_yscale('log')\n",
        "\n",
        "sns.barplot(x='new_user',y='converted',data = df,ax = ax[1])\n",
        "ax[1].set_title('Mean Conversion Rate by User Type',fontsize = 16)\n",
        "plt.show()"
      ],
      "execution_count": 0,
      "outputs": [
        {
          "output_type": "display_data",
          "data": {
            "image/png": "[encoded data removed]",
            "text/plain": [
              "<Figure size 1296x288 with 2 Axes>"
            ]
          },
          "metadata": {
            "tags": [],
            "needs_background": "light"
          }
        }
      ]
    },
    {
      "cell_type": "markdown",
      "metadata": {
        "colab_type": "text",
        "id": "RbRAdWQYwj80"
      },
      "source": [
        "## Conversion rate by source"
      ]
    },
    {
      "cell_type": "code",
      "metadata": {
        "colab_type": "code",
        "id": "ghbr8Au-x6eY",
        "outputId": "5b36210e-a57c-4e09-c6bb-c7a60ea87a48",
        "colab": {}
      },
      "source": [
        "fig, ax = plt.subplots(nrows = 1, ncols = 3, figsize = (18,4))\n",
        "\n",
        "sns.countplot(x='source',data = df,ax = ax[0]) \n",
        "ax[0].set_title('Number of Users Per Source',fontsize = 16)\n",
        "\n",
        "sns.countplot(x='source',hue='converted',data = df,ax = ax[1]) \n",
        "ax[1].set_title('Number of Conversion Per Source',fontsize = 16)\n",
        "ax[1].set_yscale('log')\n",
        "sns.barplot(x='source',y='converted',data = df,ax = ax[2])\n",
        "ax[2].set_title('Mean Conversion Rate Per Source',fontsize = 16)\n",
        "plt.tight_layout()\n",
        "plt.show()"
      ],
      "execution_count": 0,
      "outputs": [
        {
          "output_type": "display_data",
          "data": {
            "image/png": "[encoded data removed]",
            "text/plain": [
              "<Figure size 1296x288 with 3 Axes>"
            ]
          },
          "metadata": {
            "tags": [],
            "needs_background": "light"
          }
        }
      ]
    },
    {
      "cell_type": "markdown",
      "metadata": {
        "colab_type": "text",
        "id": "psKKVGXbwkGO"
      },
      "source": [
        "## Conversion rate by total_page_visited"
      ]
    },
    {
      "cell_type": "code",
      "metadata": {
        "colab_type": "code",
        "id": "PzkaAwDtwFXU",
        "outputId": "5d7db503-5fb3-47d7-882b-b32eaf1ed969",
        "colab": {}
      },
      "source": [
        "grouped = df[['converted','total_pages_visited']].groupby('total_pages_visited').mean().reset_index()\n",
        "\n",
        "fig, ax = plt.subplots(nrows = 1, ncols = 2, figsize = (18,6)) \n",
        "hist_kws= {'histtype': 'bar', 'edgecolor':'black', 'alpha': 0.2}  # alpha : transparency \n",
        "sns.distplot(df[df['converted']==0]['total_pages_visited'], label = 'converted_0', hist_kws=hist_kws, ax = ax[0])\n",
        "sns.distplot(df[df['converted']==1]['total_pages_visited'], label = 'converted_1', hist_kws=hist_kws, ax = ax[0])\n",
        "ax[0].legend()\n",
        "ax[0].set_title('Conversion by total_page_visited',fontsize=16)\n",
        "ax[1].plot(grouped['total_pages_visited'],grouped['converted'])\n",
        "sns.lineplot(x=grouped['total_pages_visited'],y=grouped['converted'],data = grouped,ax=ax[1],marker='o')\n",
        "# create plotted points on the line by passing 'o' to marker"
      ],
      "execution_count": 0,
      "outputs": [
        {
          "output_type": "execute_result",
          "data": {
            "text/plain": [
              "<matplotlib.axes._subplots.AxesSubplot at 0x291b2b2a940>"
            ]
          },
          "metadata": {
            "tags": []
          },
          "execution_count": 14
        },
        {
          "output_type": "display_data",
          "data": {
            "image/png": "[encoded data removed]",
            "text/plain": [
              "<Figure size 1296x432 with 2 Axes>"
            ]
          },
          "metadata": {
            "tags": [],
            "needs_background": "light"
          }
        }
      ]
    },
    {
      "cell_type": "markdown",
      "metadata": {
        "id": "SIbiNr_1jQF7",
        "colab_type": "text"
      },
      "source": [
        "# 4. Check Class Imbalance\n",
        "why we do this: <br>\n",
        "Machine Learning Algorithms are usually designed to improve accuracy by reducing the error. Thus, they do not take into account the class distribution / proportion or balance of classes. <br>\n",
        "In our case, if algorithm blindly classify every record as 0 (unconverted), we still have accuracy rate as high as 306,000 / 316,200 = 96.77%, which looks high while biased."
      ]
    },
    {
      "cell_type": "code",
      "metadata": {
        "id": "ok466diapBNB",
        "colab_type": "code",
        "outputId": "8ffdb1e5-7de5-4ac2-f916-c5db605974ff",
        "colab": {
          "base_uri": "https://localhost:8080/",
          "height": 329
        }
      },
      "source": [
        "# show distribution\n",
        "df['converted'].value_counts()\n",
        "y = df.groupby(['converted']).size()\n",
        "ax = y.plot(kind = 'bar')\n",
        "plt.yscale('log')\n",
        "plt.show()"
      ],
      "execution_count": 0,
      "outputs": [
        {
          "output_type": "execute_result",
          "data": {
            "text/plain": [
              "0    306000\n",
              "1     10198\n",
              "Name: converted, dtype: int64"
            ]
          },
          "metadata": {
            "tags": []
          },
          "execution_count": 18
        },
        {
          "output_type": "display_data",
          "data": {
            "image/png": "[encoded data removed]",
            "text/plain": [
              "<Figure size 432x288 with 1 Axes>"
            ]
          },
          "metadata": {
            "tags": [],
            "needs_background": "light"
          }
        }
      ]
    },
    {
      "cell_type": "markdown",
      "metadata": {
        "id": "rAAXhWGWjQGB",
        "colab_type": "text"
      },
      "source": [
        "### Finding:\n",
        "Non-converted class is outnumbered by the converted class, occuring in only 3.23% of the users. This class imbalance will create misleading accuracy metrics, known as an accuracy paradox.\n",
        "\n",
        "### My solution:\n",
        "Up-sampling the minority class"
      ]
    },
    {
      "cell_type": "code",
      "metadata": {
        "id": "cR-j1Cw9jQGB",
        "colab_type": "code",
        "outputId": "2c7eb1ba-5d52-4424-8e44-cb7fac193b5a",
        "colab": {
          "base_uri": "https://localhost:8080/",
          "height": 70
        }
      },
      "source": [
        "# Separate majority and minority classes\n",
        "df_majority = df[df.converted==0]\n",
        "df_minority = df[df.converted==1]\n",
        " \n",
        "# Upsample minority class\n",
        "df_minority_upsampled = resample(df_minority, \n",
        "                                 replace=True,     # sample with replacement\n",
        "                                 n_samples=306000,    # to match majority class\n",
        "                                 random_state=123) # reproducible results\n",
        " \n",
        "# Combine majority class with upsampled minority class\n",
        "df_upsampled = pd.concat([df_majority, df_minority_upsampled])\n",
        "\n",
        "df_upsampled['converted'].value_counts()"
      ],
      "execution_count": 0,
      "outputs": [
        {
          "output_type": "execute_result",
          "data": {
            "text/plain": [
              "1    306000\n",
              "0    306000\n",
              "Name: converted, dtype: int64"
            ]
          },
          "metadata": {
            "tags": []
          },
          "execution_count": 61
        }
      ]
    },
    {
      "cell_type": "markdown",
      "metadata": {
        "id": "TSyizkiKjQGG",
        "colab_type": "text"
      },
      "source": [
        "# 5. Modeling"
      ]
    },
    {
      "cell_type": "markdown",
      "metadata": {
        "id": "snudxF9LjQGH",
        "colab_type": "text"
      },
      "source": [
        "## Random Forest\n",
        "## Why this model:\n",
        "It's a good chioce when we want to learn more about the data before applying other complex algorithms.\n",
        "Random forest a popular ensemble method which could be used in both regression and classification. It helps in dimensional reduction, treats missing values, outliers, continuous and discrete variables.\n",
        "\n"
      ]
    },
    {
      "cell_type": "code",
      "metadata": {
        "id": "v48oT-CO0nlV",
        "colab_type": "code",
        "outputId": "05984de1-92e6-4267-9011-53438712eb48",
        "colab": {
          "base_uri": "https://localhost:8080/",
          "height": 240
        }
      },
      "source": [
        "# Convert string categorical variables into numerical variables\n",
        "# Define the string categorical columns\n",
        "String_Categorical = ['country', 'source']\n",
        "\n",
        "# Apply LabelEncoder to the categorical variables with text\n",
        "for col in String_Categorical:\n",
        "  le = LabelEncoder()\n",
        "  df_upsampled[col] = le.fit_transform(df_upsampled[col])\n",
        "  # Create additional dictionary with mapping\n",
        "  le_name_mapping = dict(zip(le.classes_, le.transform(le.classes_)))\n",
        "  print (le_name_mapping)\n",
        "\n",
        "df_upsampled.head(5)"
      ],
      "execution_count": 0,
      "outputs": [
        {
          "output_type": "stream",
          "text": [
            "{'China': 0, 'Germany': 1, 'UK': 2, 'US': 3}\n",
            "{'Ads': 0, 'Direct': 1, 'Seo': 2}\n"
          ],
          "name": "stdout"
        },
        {
          "output_type": "execute_result",
          "data": {
            "text/html": [
              "<div>\n",
              "<style scoped>\n",
              "    .dataframe tbody tr th:only-of-type {\n",
              "        vertical-align: middle;\n",
              "    }\n",
              "\n",
              "    .dataframe tbody tr th {\n",
              "        vertical-align: top;\n",
              "    }\n",
              "\n",
              "    .dataframe thead th {\n",
              "        text-align: right;\n",
              "    }\n",
              "</style>\n",
              "<table border=\"1\" class=\"dataframe\">\n",
              "  <thead>\n",
              "    <tr style=\"text-align: right;\">\n",
              "      <th></th>\n",
              "      <th>country</th>\n",
              "      <th>age</th>\n",
              "      <th>new_user</th>\n",
              "      <th>source</th>\n",
              "      <th>total_pages_visited</th>\n",
              "      <th>converted</th>\n",
              "    </tr>\n",
              "  </thead>\n",
              "  <tbody>\n",
              "    <tr>\n",
              "      <th>0</th>\n",
              "      <td>2</td>\n",
              "      <td>25</td>\n",
              "      <td>1</td>\n",
              "      <td>0</td>\n",
              "      <td>1</td>\n",
              "      <td>0</td>\n",
              "    </tr>\n",
              "    <tr>\n",
              "      <th>1</th>\n",
              "      <td>3</td>\n",
              "      <td>23</td>\n",
              "      <td>1</td>\n",
              "      <td>2</td>\n",
              "      <td>5</td>\n",
              "      <td>0</td>\n",
              "    </tr>\n",
              "    <tr>\n",
              "      <th>2</th>\n",
              "      <td>3</td>\n",
              "      <td>28</td>\n",
              "      <td>1</td>\n",
              "      <td>2</td>\n",
              "      <td>4</td>\n",
              "      <td>0</td>\n",
              "    </tr>\n",
              "    <tr>\n",
              "      <th>3</th>\n",
              "      <td>0</td>\n",
              "      <td>39</td>\n",
              "      <td>1</td>\n",
              "      <td>2</td>\n",
              "      <td>5</td>\n",
              "      <td>0</td>\n",
              "    </tr>\n",
              "    <tr>\n",
              "      <th>4</th>\n",
              "      <td>3</td>\n",
              "      <td>30</td>\n",
              "      <td>1</td>\n",
              "      <td>2</td>\n",
              "      <td>6</td>\n",
              "      <td>0</td>\n",
              "    </tr>\n",
              "  </tbody>\n",
              "</table>\n",
              "</div>"
            ],
            "text/plain": [
              "   country  age  new_user  source  total_pages_visited  converted\n",
              "0        2   25         1       0                    1          0\n",
              "1        3   23         1       2                    5          0\n",
              "2        3   28         1       2                    4          0\n",
              "3        0   39         1       2                    5          0\n",
              "4        3   30         1       2                    6          0"
            ]
          },
          "metadata": {
            "tags": []
          },
          "execution_count": 62
        }
      ]
    },
    {
      "cell_type": "code",
      "metadata": {
        "id": "DBZ15kyQjQGN",
        "colab_type": "code",
        "colab": {}
      },
      "source": [
        "# Define the train and test data\n",
        "train = df_upsampled.iloc[:, df_upsampled.columns != 'converted']\n",
        "test  = df_upsampled.iloc[:, df_upsampled.columns == 'converted']\n",
        "\n",
        "# Split the test and training data\n",
        "x_train, x_test, y_train, y_test = train_test_split(train,\n",
        "                                                   test,\n",
        "                                                   test_size = 0.20, \n",
        "                                                  random_state = 15)"
      ],
      "execution_count": 0,
      "outputs": []
    },
    {
      "cell_type": "code",
      "metadata": {
        "id": "b4x6aLSIjQGP",
        "colab_type": "code",
        "outputId": "80ce88c4-e3df-49cd-ae7d-bb52848cc379",
        "colab": {
          "base_uri": "https://localhost:8080/",
          "height": 215
        }
      },
      "source": [
        "# Create the model with 100 trees\n",
        "model = RandomForestClassifier(n_estimators=100, \n",
        "                               bootstrap = True,\n",
        "                               max_features = 'sqrt')\n",
        "\n",
        "# Fit on training data\n",
        "model.fit(x_train, y_train)"
      ],
      "execution_count": 0,
      "outputs": [
        {
          "output_type": "stream",
          "text": [
            "/usr/local/lib/python3.6/dist-packages/ipykernel_launcher.py:9: DataConversionWarning: A column-vector y was passed when a 1d array was expected. Please change the shape of y to (n_samples,), for example using ravel().\n",
            "  if __name__ == '__main__':\n"
          ],
          "name": "stderr"
        },
        {
          "output_type": "execute_result",
          "data": {
            "text/plain": [
              "RandomForestClassifier(bootstrap=True, ccp_alpha=0.0, class_weight=None,\n",
              "                       criterion='gini', max_depth=None, max_features='sqrt',\n",
              "                       max_leaf_nodes=None, max_samples=None,\n",
              "                       min_impurity_decrease=0.0, min_impurity_split=None,\n",
              "                       min_samples_leaf=1, min_samples_split=2,\n",
              "                       min_weight_fraction_leaf=0.0, n_estimators=100,\n",
              "                       n_jobs=None, oob_score=False, random_state=None,\n",
              "                       verbose=0, warm_start=False)"
            ]
          },
          "metadata": {
            "tags": []
          },
          "execution_count": 49
        }
      ]
    },
    {
      "cell_type": "code",
      "metadata": {
        "id": "qqEXV1jTjQGR",
        "colab_type": "code",
        "colab": {}
      },
      "source": [
        "#  Class predictions on training set\n",
        "rf_train_predictions = model.predict(x_train)\n",
        "#  Class predictions on testing set\n",
        "rf_predictions = model.predict(x_test)\n",
        "# Probabilities for each class\n",
        "rf_probs = model.predict_proba(x_test)[:, 1]"
      ],
      "execution_count": 0,
      "outputs": []
    },
    {
      "cell_type": "markdown",
      "metadata": {
        "id": "ujLFM9DtjQGY",
        "colab_type": "text"
      },
      "source": [
        "# Result"
      ]
    },
    {
      "cell_type": "code",
      "metadata": {
        "scrolled": false,
        "id": "lO39haSRjQGc",
        "colab_type": "code",
        "outputId": "e143cf60-8160-49f0-8975-316c6c4f2537",
        "colab": {
          "base_uri": "https://localhost:8080/",
          "height": 444
        }
      },
      "source": [
        "# classification_report & confusion Matrix\n",
        "# F1-score shows how balanced the data is, higher number means more balanced dataset\n",
        "# Support counts number of occurrences of each class label\n",
        "\n",
        "print('Classification report:')\n",
        "print(classification_report(y_test, rf_predictions))\n",
        "print('\\n')\n",
        "print('Confusion matrix for training set:')\n",
        "print(pd.DataFrame(confusion_matrix(rf_train_predictions, y_train)))\n",
        "print('Accuracy score for training set:',round(accuracy_score(rf_train_predictions, y_train),3))\n",
        "print('\\n')\n",
        "print('Confusion matrix for testing set:')\n",
        "print(pd.DataFrame(confusion_matrix(rf_predictions, y_test)))\n",
        "print('Accuracy score for testing set:',round(accuracy_score(rf_predictions, y_test),3))"
      ],
      "execution_count": 0,
      "outputs": [
        {
          "output_type": "stream",
          "text": [
            "Classification report:\n",
            "              precision    recall  f1-score   support\n",
            "\n",
            "           0       0.96      0.95      0.96     61305\n",
            "           1       0.95      0.97      0.96     61095\n",
            "\n",
            "    accuracy                           0.96    122400\n",
            "   macro avg       0.96      0.96      0.96    122400\n",
            "weighted avg       0.96      0.96      0.96    122400\n",
            "\n",
            "\n",
            "\n",
            "Confusion matrix for training set:\n",
            "        0       1\n",
            "0  231946    7987\n",
            "1   12749  236918\n",
            "Accuracy score for training set: 0.958\n",
            "\n",
            "\n",
            "Confusion matrix for testing set:\n",
            "       0      1\n",
            "0  57991   2122\n",
            "1   3314  58973\n",
            "Accuracy score for testing set: 0.956\n"
          ],
          "name": "stdout"
        }
      ]
    },
    {
      "cell_type": "markdown",
      "metadata": {
        "id": "oAS31vMujQGf",
        "colab_type": "text"
      },
      "source": [
        "### Finding:\n",
        "1. Accuracy rate for training and testing sets are similiar: around 95%, no overfitting\n",
        "2. Up-sampling created balanced data set, we can tell from F1-score and support.\n",
        "    this make sure unbiased and accurate model result"
      ]
    },
    {
      "cell_type": "code",
      "metadata": {
        "id": "S7EpXq7FjQGf",
        "colab_type": "code",
        "outputId": "953ab44c-03d9-457e-a345-064609f37d7f",
        "colab": {
          "base_uri": "https://localhost:8080/",
          "height": 35
        }
      },
      "source": [
        "# Calculate roc auc\n",
        "roc_value = roc_auc_score(y_test, rf_probs)\n",
        "roc_value"
      ],
      "execution_count": 0,
      "outputs": [
        {
          "output_type": "execute_result",
          "data": {
            "text/plain": [
              "0.9920975575301092"
            ]
          },
          "metadata": {
            "tags": []
          },
          "execution_count": 53
        }
      ]
    },
    {
      "cell_type": "code",
      "metadata": {
        "scrolled": false,
        "id": "MQzAQlMhjQGo",
        "colab_type": "code",
        "outputId": "ffbf2fa4-6f65-4b96-f22c-18b371ce2a0d",
        "colab": {
          "base_uri": "https://localhost:8080/",
          "height": 416
        }
      },
      "source": [
        "# Display feture importance of our model\n",
        "\n",
        "# Extract the feature importances and zip it with the columns into a dataframe\n",
        "features = pd.DataFrame({'feature': list(x_train.columns),\n",
        "                   'importance': model.feature_importances_}).\\\n",
        "                    sort_values('importance', ascending = False)\n",
        "\n",
        "# Display a horizontal barplot with the feature importances\n",
        "plt.figure(figsize=(10,6))\n",
        "sns.barplot(x=features['importance'], y=features['feature'], color='blue', orient='h')"
      ],
      "execution_count": 0,
      "outputs": [
        {
          "output_type": "execute_result",
          "data": {
            "text/plain": [
              "<matplotlib.axes._subplots.AxesSubplot at 0x7f67e37fa5f8>"
            ]
          },
          "metadata": {
            "tags": []
          },
          "execution_count": 56
        },
        {
          "output_type": "display_data",
          "data": {
            "image/png": "[encoded data removed]",
            "text/plain": [
              "<Figure size 720x432 with 1 Axes>"
            ]
          },
          "metadata": {
            "tags": [],
            "needs_background": "light"
          }
        }
      ]
    },
    {
      "cell_type": "markdown",
      "metadata": {
        "id": "VHaaKs17jQGr",
        "colab_type": "text"
      },
      "source": [
        "### Finding:\n",
        "total_pages_visited makes over 70% importance in the model, which makes common sense <br>\n",
        "Since customers who want to buy items tend to view more pages and they need to click more pages to complete orders <br>\n",
        "while from website improvement stand point, it is not actionable; <br>\n",
        "Considering there is a huge difference between importance of total_pages_visited & age\n",
        "So I will remove this feature and rebuild model<br>"
      ]
    },
    {
      "cell_type": "code",
      "metadata": {
        "id": "y40bYZrCjQGr",
        "colab_type": "code",
        "colab": {}
      },
      "source": [
        "# remove total_pages_visited from x_train & x_test\n",
        "adjusted_x_train = x_train.iloc[:,x_train.columns != 'total_pages_visited']\n",
        "adjusted_x_test = x_test.iloc[:,x_test.columns != 'total_pages_visited']"
      ],
      "execution_count": 0,
      "outputs": []
    },
    {
      "cell_type": "code",
      "metadata": {
        "id": "BefXaJayjQGu",
        "colab_type": "code",
        "outputId": "ca46fa53-8254-4107-a874-a2e51d19e695",
        "colab": {
          "base_uri": "https://localhost:8080/",
          "height": 73
        }
      },
      "source": [
        "# Fit model on adjusted training data\n",
        "model2 = model.fit(adjusted_x_train, y_train)\n",
        "\n",
        "#  Class predictions on adjusted traing set\n",
        "rf_adjusted_train_predictions = model.predict(adjusted_x_train)\n",
        "#  Class predictions on testing set\n",
        "rf_predictions = model.predict(adjusted_x_test)\n",
        "# Probabilities for each class\n",
        "rf_probs = model.predict_proba(adjusted_x_test)[:, 1]"
      ],
      "execution_count": 0,
      "outputs": [
        {
          "output_type": "stream",
          "text": [
            "/usr/local/lib/python3.6/dist-packages/ipykernel_launcher.py:2: DataConversionWarning: A column-vector y was passed when a 1d array was expected. Please change the shape of y to (n_samples,), for example using ravel().\n",
            "  \n"
          ],
          "name": "stderr"
        }
      ]
    },
    {
      "cell_type": "code",
      "metadata": {
        "scrolled": false,
        "id": "sPrGtE7LjQGw",
        "colab_type": "code",
        "outputId": "a9551cc0-ce9a-45ec-ccb4-5360af6442ba",
        "colab": {
          "base_uri": "https://localhost:8080/",
          "height": 406
        }
      },
      "source": [
        "# Display feture importance of adjusted model\n",
        "\n",
        "# Extract the feature importances and zip it with the columns into a dataframe\n",
        "features_2 = pd.DataFrame({'feature': list(adjusted_x_train.columns),\n",
        "                   'importance': model.feature_importances_}).\\\n",
        "                    sort_values('importance', ascending = False)\n",
        "\n",
        "# Display a horizontal barplot with the feature importances\n",
        "plt.figure(figsize=(10,6))\n",
        "sns.barplot(x=features_2['importance'], y=features_2['feature'], color='blue', orient='h')"
      ],
      "execution_count": 0,
      "outputs": [
        {
          "output_type": "execute_result",
          "data": {
            "text/plain": [
              "<Figure size 720x432 with 0 Axes>"
            ]
          },
          "metadata": {
            "tags": []
          },
          "execution_count": 52
        },
        {
          "output_type": "execute_result",
          "data": {
            "text/plain": [
              "<matplotlib.axes._subplots.AxesSubplot at 0x7f17690a5b00>"
            ]
          },
          "metadata": {
            "tags": []
          },
          "execution_count": 52
        },
        {
          "output_type": "display_data",
          "data": {
            "image/png": "[encoded data removed]",
            "text/plain": [
              "<Figure size 720x432 with 1 Axes>"
            ]
          },
          "metadata": {
            "tags": [],
            "needs_background": "light"
          }
        }
      ]
    },
    {
      "cell_type": "code",
      "metadata": {
        "id": "KoX9Ww31p4G_",
        "colab_type": "code",
        "outputId": "ae41da4f-10f7-4e2e-d95d-2f69337a9e27",
        "colab": {
          "base_uri": "https://localhost:8080/",
          "height": 35
        }
      },
      "source": [
        "list(features_2['feature'])"
      ],
      "execution_count": 0,
      "outputs": [
        {
          "output_type": "execute_result",
          "data": {
            "text/plain": [
              "['new_user', 'country', 'age', 'source']"
            ]
          },
          "metadata": {
            "tags": []
          },
          "execution_count": 63
        }
      ]
    },
    {
      "cell_type": "code",
      "metadata": {
        "id": "KtrGIPmUjQGz",
        "colab_type": "code",
        "outputId": "c33e597b-b428-4e0e-aa48-e92ddf125188",
        "colab": {
          "base_uri": "https://localhost:8080/",
          "height": 381
        }
      },
      "source": [
        "# open this 'black box' and uncover insights from our model using partial dependence plot\n",
        "# it captures complex patterns and shows how each variable or predictor affects the model's predictions\n",
        "\n",
        "plt.figure(figsize=(18,6))\n",
        "plot_partial_dependence(model2, adjusted_x_train, adjusted_x_train.columns, n_jobs=3, grid_resolution=20)\n",
        "fig = plt.gcf()\n",
        "fig.suptitle('Partial dependence of conversion behavior')\n",
        "fig.subplots_adjust(wspace=0.4, hspace=1.2)\n",
        "plt.show()\n"
      ],
      "execution_count": 0,
      "outputs": [
        {
          "output_type": "execute_result",
          "data": {
            "text/plain": [
              "<Figure size 1296x432 with 0 Axes>"
            ]
          },
          "metadata": {
            "tags": []
          },
          "execution_count": 69
        },
        {
          "output_type": "execute_result",
          "data": {
            "text/plain": [
              "<sklearn.inspection._partial_dependence.PartialDependenceDisplay at 0x7f1767fc6eb8>"
            ]
          },
          "metadata": {
            "tags": []
          },
          "execution_count": 69
        },
        {
          "output_type": "execute_result",
          "data": {
            "text/plain": [
              "Text(0.5, 0.98, 'Partial dependence of conversion behavior')"
            ]
          },
          "metadata": {
            "tags": []
          },
          "execution_count": 69
        },
        {
          "output_type": "display_data",
          "data": {
            "text/plain": [
              "<Figure size 1296x432 with 0 Axes>"
            ]
          },
          "metadata": {
            "tags": []
          }
        },
        {
          "output_type": "display_data",
          "data": {
            "image/png": "[encoded data removed]",
            "text/plain": [
              "<Figure size 432x288 with 5 Axes>"
            ]
          },
          "metadata": {
            "tags": [],
            "needs_background": "light"
          }
        }
      ]
    },
    {
      "cell_type": "markdown",
      "metadata": {
        "id": "SNAl_nrtWLjn",
        "colab_type": "text"
      },
      "source": [
        "{'China': 0, 'Germany': 1, 'UK': 2, 'US': 3}\n",
        "{'Ads': 0, 'Direct': 1, 'Seo': 2}"
      ]
    },
    {
      "cell_type": "markdown",
      "metadata": {
        "id": "M8QnbQm_b_b-",
        "colab_type": "text"
      },
      "source": [
        "Partial dependence plot shows how much of conversion differences among our 4 target countries are due solely to country.\n",
        "Inside of this method is: first we choose the first user in dataset, keeping all other variables constant, apply \n",
        "We then use our model to predict the conversion rate, but we only change the country keeping all other variables constant before making a prediction. We first predict conversion with country is China, then predict with country is Germany, then UK, then US. For all the users in our table, we repeat this process, then get average trend.\n"
      ]
    },
    {
      "cell_type": "markdown",
      "metadata": {
        "id": "9jee6yr8jQG2",
        "colab_type": "text"
      },
      "source": [
        "# Summary\n",
        "**Our Strengths:**\n",
        "1. Retened/loyal customers play an critical role in sales. Keep maintaining high quality customer service and periodic campaigns will help boost retention.\n",
        "2. User base is young and mainly under 30. Marketing channels which most likely to reach out young people will be our key to maintain succuess.\n",
        "\n",
        "**Our Opportunities:**\n",
        "3. More advertiseing and exposure in Germany market to target more Germans. Germany gets highest conversion rate among 4 contries. Even though only 3% of the users are Germans, their mean conversion rate is as high as 6%.\n",
        "4. Optimize recommendation system. Users who either are new or visited less than 10 pages of our websiter are more inclined to quit. For this segment, customized recommendation could be the key to drive conversion.\n",
        "5. People over 30 have huge potential since consumer expenditure usually increase with age. Consumer from 30 to 50 have highest income level and expenditure compared to other groups. Marketing team could design and conduct experienment to analyze perference of this custoemr segment and position right products and service for this group of customers.\n",
        "\n",
        "**Our Weaknesses:**\n",
        "6. Need to update China version website. Both EDA and partial dependence plot show low conversion rate in China. Giving large population and user base in this country, we need to improve our performance. UI design team could test why local version in China doesn't work well. Perhaps translation doesn't aligh with local culture and customer habit. Marketing could help conduct experiments to enhance user experience.\n",
        "\n",
        "**Others:**\n",
        "7. Source doesn't seem to matter. There is no difference among different sources. \n",
        "\n"
      ]
    },
    {
      "cell_type": "markdown",
      "metadata": {
        "id": "-7QkBx52DUYB",
        "colab_type": "text"
      },
      "source": [
        "### Reference\n",
        "https://towardsdatascience.com/three-model-explanability-methods-every-data-scientist-should-know-c332bdfd8df <br>\n",
        "https://www.kaggle.com/dansbecker/partial-dependence-plots<br>\n",
        "https://github.com/huynhe/Data-Science-Take-Home-Challenges-Collection/blob/master/Conversion%20Rate.ipynb<br>\n",
        "https://elitedatascience.com/imbalanced-classes <br>\n",
        "https://www.kaggle.com/raviolli77/random-forest-in-python"
      ]
    }
  ]
}